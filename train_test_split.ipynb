{
 "cells": [
  {
   "cell_type": "code",
   "execution_count": 6,
   "id": "6de5648d-d546-4a50-a2ea-d0a35a2c18bd",
   "metadata": {},
   "outputs": [],
   "source": [
    "import os\n",
    "import pandas as pd\n",
    "import shutil\n",
    "\n",
    "cd = os.getcwd()\n",
    "images_dir = os.path.join(cd, 'images')\n",
    "output_dir = os.path.join(cd, 'images_train_test_split')\n",
    "output_dir_train = os.path.join(output_dir, 'train')\n",
    "output_dir_test = os.path.join(output_dir, 'test')\n",
    "classes = [f for f in os.listdir(images_dir)]\n",
    "train_images = pd.read_csv('train.csv', header = None)\n",
    "test_images = pd.read_csv('test.csv', header = None)\n",
    "for class_label in classes:\n",
    "    curr_src_dir = os.path.join(images_dir,class_label)\n",
    "    curr_dst_dir_train = os.path.join(output_dir_train,class_label)\n",
    "    curr_dst_dir_test = os.path.join(output_dir_test,class_label)\n",
    "    os.makedirs(curr_dst_dir_train, exist_ok=True)\n",
    "    os.makedirs(curr_dst_dir_test, exist_ok=True)\n",
    "    missing = []\n",
    "    images = [f for f in os.listdir(curr_src_dir) if f.endswith('.jpg')]\n",
    "    for image in images:\n",
    "        if image in train_images[0].values:\n",
    "            src = os.path.join(curr_src_dir, image)\n",
    "            dst = os.path.join(curr_dst_dir_train, image)\n",
    "            shutil.copy(src,dst)\n",
    "            \n",
    "        elif image in test_images[0].values:\n",
    "            src = os.path.join(curr_src_dir, image)\n",
    "            dst = os.path.join(curr_dst_dir_test, image)\n",
    "            shutil.copy(src,dst)\n",
    "\n",
    "        else:\n",
    "            missing.append(image)\n",
    "            continue"
   ]
  }
 ],
 "metadata": {
  "kernelspec": {
   "display_name": "Python 3 (ipykernel)",
   "language": "python",
   "name": "python3"
  },
  "language_info": {
   "codemirror_mode": {
    "name": "ipython",
    "version": 3
   },
   "file_extension": ".py",
   "mimetype": "text/x-python",
   "name": "python",
   "nbconvert_exporter": "python",
   "pygments_lexer": "ipython3",
   "version": "3.11.5"
  }
 },
 "nbformat": 4,
 "nbformat_minor": 5
}
